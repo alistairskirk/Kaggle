{
 "cells": [
  {
   "cell_type": "markdown",
   "metadata": {
    "deletable": true,
    "editable": true
   },
   "source": [
    "# Fish No Fish Detector\n",
    "The following will look at a 256x256 image and learn if it contains fish parts."
   ]
  },
  {
   "cell_type": "markdown",
   "metadata": {
    "deletable": true,
    "editable": true
   },
   "source": [
    "## Import Data\n",
    "Since each fish in the training data is located in a separate folder, there will be a label for each folder."
   ]
  },
  {
   "cell_type": "code",
   "execution_count": 1,
   "metadata": {
    "collapsed": false,
    "deletable": true,
    "editable": true
   },
   "outputs": [],
   "source": [
    "import os #for os.listdir\n",
    "FISH_DIR='C:/Users/Nick/Dropbox/Work/Data Science/02 - Fish Detector/train_data/fish'\n",
    "NFISH_DIR='C:/Users/Nick/Dropbox/Work/Data Science/02 - Fish Detector/train_data/no fish'\n",
    "\n",
    "IMG_SIZE_X=128\n",
    "IMG_SIZE_Y=128"
   ]
  },
  {
   "cell_type": "markdown",
   "metadata": {
    "deletable": true,
    "editable": true
   },
   "source": [
    "Define a function that does the import process. It takes a folder as argument."
   ]
  },
  {
   "cell_type": "code",
   "execution_count": 2,
   "metadata": {
    "collapsed": true,
    "deletable": true,
    "editable": true
   },
   "outputs": [],
   "source": [
    "from tqdm import tqdm #library for the progress bar during for loop\n",
    "import cv2 #required to read images\n",
    "import matplotlib.pyplot as plt #for displaying images\n",
    "import numpy as np\n",
    "\n",
    "def create_training_data(DIR, label,max_num):\n",
    "    X=[] #Training images\n",
    "    Y=[] #Training labels\n",
    "    #print(os.listdir(DIR)[1])\n",
    "    for img in tqdm(os.listdir(DIR)[0:max_num]):\n",
    "        #Read Image\n",
    "        path=os.path.join(DIR, img)\n",
    "        im=cv2.imread(path)\n",
    "        im=cv2.normalize(im.astype('float32'), None,0.0, 1.0 ,cv2.NORM_MINMAX) #normalize/convert image to float\n",
    "        im=cv2.cvtColor(im, cv2.COLOR_BGR2RGB)\n",
    "        #Resize the Image\n",
    "        im=cv2.resize(im, (IMG_SIZE_X,IMG_SIZE_Y), interpolation=cv2.INTER_AREA) #Set image size to \n",
    "        \n",
    "        #Append image and label to training data\n",
    "        X.append(np.array(im))\n",
    "        Y.append(np.array(label))\n",
    "        #plt.imshow(im)\n",
    "        #plt.show()\n",
    "        \n",
    "    return(X,Y)\n",
    "        \n",
    "        \n",
    "        "
   ]
  },
  {
   "cell_type": "markdown",
   "metadata": {
    "deletable": true,
    "editable": true
   },
   "source": [
    "Run the function to collect training data for the fish class"
   ]
  },
  {
   "cell_type": "code",
   "execution_count": 3,
   "metadata": {
    "collapsed": false,
    "deletable": true,
    "editable": true,
    "scrolled": true
   },
   "outputs": [
    {
     "name": "stderr",
     "output_type": "stream",
     "text": [
      "100%|██████████████████████████████████████████████████████████████████████████████| 3927/3927 [00:57<00:00, 68.13it/s]\n"
     ]
    }
   ],
   "source": [
    "(X_fish, Y_fish)=create_training_data(FISH_DIR,[1,0], 3927)\n",
    "X_fish=np.asarray(X_fish)\n",
    "Y_fish=np.asarray(Y_fish)"
   ]
  },
  {
   "cell_type": "markdown",
   "metadata": {
    "deletable": true,
    "editable": true
   },
   "source": [
    "Run the function to collect training data for the \"no fish\" class"
   ]
  },
  {
   "cell_type": "code",
   "execution_count": 4,
   "metadata": {
    "collapsed": false,
    "deletable": true,
    "editable": true
   },
   "outputs": [
    {
     "name": "stderr",
     "output_type": "stream",
     "text": [
      "100%|██████████████████████████████████████████████████████████████████████████████| 3927/3927 [01:06<00:00, 59.40it/s]\n"
     ]
    }
   ],
   "source": [
    "(X_nfish, Y_nfish)=create_training_data(NFISH_DIR,[0,1], 3927)\n",
    "X_nfish=np.asarray(X_nfish)\n",
    "Y_nfish=np.asarray(Y_nfish)"
   ]
  },
  {
   "cell_type": "markdown",
   "metadata": {
    "deletable": true,
    "editable": true
   },
   "source": [
    "Now append the two classes and shuffle them around and create test and training data:"
   ]
  },
  {
   "cell_type": "code",
   "execution_count": 5,
   "metadata": {
    "collapsed": false,
    "deletable": true,
    "editable": true
   },
   "outputs": [],
   "source": [
    "X=np.append(X_fish, X_nfish, axis=0)\n",
    "Y=np.append(Y_fish, Y_nfish, axis=0)\n",
    "\n",
    "#Clear some resources\n",
    "del X_fish\n",
    "del X_nfish\n",
    "del Y_fish\n",
    "del Y_nfish"
   ]
  },
  {
   "cell_type": "code",
   "execution_count": 6,
   "metadata": {
    "collapsed": false,
    "deletable": true,
    "editable": true
   },
   "outputs": [
    {
     "name": "stdout",
     "output_type": "stream",
     "text": [
      "curses is not supported on this machine (please install/reinstall curses for an optimal experience)\n"
     ]
    }
   ],
   "source": [
    "#Shuffle the them around\n",
    "from tflearn.data_utils import shuffle\n",
    "\n",
    "seed = 7\n",
    "np.random.seed(seed)\n",
    "X, Y = shuffle(X, Y)\n",
    "\n",
    "X_train=X[0:6200]\n",
    "Y_train=Y[0:6200]\n",
    "\n",
    "X_valid=X[6200:7000]\n",
    "Y_valid=Y[6200:7000]\n",
    "\n",
    "X_test=X[7000:7855]\n",
    "Y_test=Y[7000:7855]\n",
    "\n",
    "\n",
    "del X\n",
    "del Y\n"
   ]
  },
  {
   "cell_type": "markdown",
   "metadata": {
    "deletable": true,
    "editable": true
   },
   "source": [
    "# Create the Neural Network\n",
    "## Pre-define the network architecture"
   ]
  },
  {
   "cell_type": "code",
   "execution_count": 7,
   "metadata": {
    "collapsed": false,
    "deletable": true,
    "editable": true
   },
   "outputs": [
    {
     "name": "stderr",
     "output_type": "stream",
     "text": [
      "Using TensorFlow backend.\n"
     ]
    }
   ],
   "source": [
    "from keras.models import Sequential\n",
    "from keras.layers import Dense, Dropout, Activation, Flatten\n",
    "from keras.layers import Convolution2D, MaxPooling2D\n",
    "from keras.callbacks import ModelCheckpoint #For saving parts\n",
    "\n",
    "\n",
    "model = Sequential()\n",
    "\n",
    "model.add(Convolution2D(32, 3, 3, border_mode='same',\n",
    "                        input_shape=X_train.shape[1:]))\n",
    "model.add(Activation('relu'))\n",
    "model.add(Convolution2D(32, 3, 3))\n",
    "model.add(Activation('relu'))\n",
    "model.add(MaxPooling2D(pool_size=(2, 2)))\n",
    "model.add(Dropout(0.25))\n",
    "\n",
    "model.add(Convolution2D(64, 3, 3, border_mode='same'))\n",
    "model.add(Activation('relu'))\n",
    "model.add(Convolution2D(64, 3, 3))\n",
    "model.add(Activation('relu'))\n",
    "model.add(MaxPooling2D(pool_size=(2, 2)))\n",
    "model.add(Dropout(0.25))\n",
    "\n",
    "model.add(Flatten())\n",
    "model.add(Dense(512))\n",
    "model.add(Activation('relu'))\n",
    "model.add(Dropout(0.5))\n",
    "model.add(Dense(2))\n",
    "model.add(Activation('sigmoid'))\n",
    "\n",
    "# Let's train the model using RMSprop\n",
    "model.compile(loss='binary_crossentropy',\n",
    "              optimizer='rmsprop',\n",
    "              metrics=['accuracy'])\n",
    "\n",
    "#checkpoints\n",
    "import numpy\n",
    "filepath='weights.best.hdf5'\n",
    "checkpoint=ModelCheckpoint(filepath, \n",
    "                           monitor='val_acc', \n",
    "                           verbose=1,\n",
    "                          save_best_only=True,\n",
    "                          mode='max')\n",
    "callbacks_list=[checkpoint]\n",
    "\n",
    "\n",
    "from keras.preprocessing.image import ImageDataGenerator\n",
    "#Create data augmentation\n",
    "datagen = ImageDataGenerator(\n",
    "        featurewise_center=False,  # set input mean to 0 over the dataset\n",
    "        samplewise_center=False,  # set each sample mean to 0\n",
    "        featurewise_std_normalization=False,  # divide inputs by std of the dataset\n",
    "        samplewise_std_normalization=False,  # divide each input by its std\n",
    "        rotation_range=15,  # randomly rotate images in the range (degrees, 0 to 180)\n",
    "        width_shift_range=0.3,  # randomly shift images horizontally (fraction of total width)\n",
    "        height_shift_range=0.3,  # randomly shift images vertically (fraction of total height)\n",
    "        horizontal_flip=True,  # randomly flip images\n",
    "        vertical_flip=False) # randomly flip images"
   ]
  },
  {
   "cell_type": "markdown",
   "metadata": {
    "deletable": true,
    "editable": true
   },
   "source": [
    "Now train the data (witouth data addition)."
   ]
  },
  {
   "cell_type": "code",
   "execution_count": null,
   "metadata": {
    "collapsed": false,
    "deletable": true,
    "editable": true
   },
   "outputs": [
    {
     "name": "stdout",
     "output_type": "stream",
     "text": [
      "Epoch 00000: val_acc improved from 0.81733 to 0.81792, saving model to weights.best.hdf5\n",
      "Epoch 00001: val_acc did not improve\n",
      "Epoch 00002: val_acc did not improve\n",
      "Epoch 00003: val_acc did not improve\n",
      "Epoch 00004: val_acc did not improve\n",
      "Epoch 00005: val_acc improved from 0.81792 to 0.81909, saving model to weights.best.hdf5\n",
      "Epoch 00006: val_acc did not improve\n",
      "Epoch 00007: val_acc did not improve\n",
      "Epoch 00008: val_acc improved from 0.81909 to 0.82670, saving model to weights.best.hdf5\n",
      "Epoch 00009: val_acc did not improve\n",
      "Epoch 00010: val_acc did not improve\n",
      "Epoch 00011: val_acc did not improve\n",
      "Epoch 00012: val_acc did not improve\n",
      "Epoch 00013: val_acc did not improve\n",
      "Epoch 00014: val_acc did not improve\n",
      "Epoch 00015: val_acc did not improve\n",
      "Epoch 00016: val_acc improved from 0.82670 to 0.82845, saving model to weights.best.hdf5\n",
      "Epoch 00017: val_acc improved from 0.82845 to 0.84543, saving model to weights.best.hdf5\n",
      "Epoch 00018: val_acc did not improve\n",
      "Epoch 00019: val_acc did not improve\n",
      "Epoch 00020: val_acc did not improve\n",
      "Epoch 00021: val_acc did not improve\n",
      "Epoch 00022: val_acc did not improve\n"
     ]
    }
   ],
   "source": [
    "import h5py #(for saving)\n",
    "batch_size=64\n",
    "nb_epoch=30\n",
    "\n",
    "datagen.fit(X_train)\n",
    "\n",
    "model.optimizer.lr.assign(0.005)\n",
    "model.fit_generator(datagen.flow(X_train, Y_train,\n",
    "                                 batch_size=batch_size),\n",
    "                    samples_per_epoch=X_train.shape[0],\n",
    "                    nb_epoch=nb_epoch,\n",
    "                    validation_data=(X_test, Y_test),\n",
    "                    callbacks=callbacks_list,\n",
    "                    verbose=0)\n",
    "\n",
    "#model.fit(X_train, Y_train,\n",
    "#           batch_size=batch_size,\n",
    "#           nb_epoch=nb_epoch,\n",
    "#           validation_data=(X_test, Y_test),\n",
    "#           shuffle=True,\n",
    "#          callbacks=callbacks_list,\n",
    "#         verbose=0)"
   ]
  },
  {
   "cell_type": "markdown",
   "metadata": {
    "collapsed": false,
    "deletable": true,
    "editable": true
   },
   "source": [
    "Save weights"
   ]
  },
  {
   "cell_type": "code",
   "execution_count": null,
   "metadata": {
    "collapsed": true,
    "deletable": true,
    "editable": true
   },
   "outputs": [],
   "source": []
  }
 ],
 "metadata": {
  "kernelspec": {
   "display_name": "Python 3",
   "language": "python",
   "name": "python3"
  },
  "language_info": {
   "codemirror_mode": {
    "name": "ipython",
    "version": 3
   },
   "file_extension": ".py",
   "mimetype": "text/x-python",
   "name": "python",
   "nbconvert_exporter": "python",
   "pygments_lexer": "ipython3",
   "version": "3.5.3"
  }
 },
 "nbformat": 4,
 "nbformat_minor": 2
}
